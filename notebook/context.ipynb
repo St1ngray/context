{
 "cells": [
  {
   "cell_type": "code",
   "execution_count": null,
   "metadata": {
    "ExecuteTime": {
     "end_time": "2018-01-28T08:38:53.586292Z",
     "start_time": "2018-01-28T08:38:53.218263Z"
    }
   },
   "outputs": [],
   "source": [
    "%load_ext autoreload\n",
    "%autoreload 2\n",
    "%matplotlib inline"
   ]
  },
  {
   "cell_type": "code",
   "execution_count": null,
   "metadata": {
    "ExecuteTime": {
     "end_time": "2018-01-28T08:38:54.416909Z",
     "start_time": "2018-01-28T08:38:53.590826Z"
    }
   },
   "outputs": [],
   "source": [
    "import sys\n",
    "\n",
    "import numpy as np\n",
    "import pandas as pd\n",
    "import matplotlib as mpl\n",
    "\n",
    "sys.path.insert(0, '..')\n",
    "from context.nd_array.nd_array.normalize_2d_array import normalize_2d_array\n",
    "from context.fit_skew_t_pdf import fit_skew_t_pdf\n",
    "from context.fit_skew_t_pdfs import fit_skew_t_pdfs\n",
    "from context.compute_context import compute_context\n",
    "from context.make_context_matrix_and_summarize_context import *\n",
    "from context.plot_context import plot_context"
   ]
  },
  {
   "cell_type": "code",
   "execution_count": null,
   "metadata": {
    "ExecuteTime": {
     "end_time": "2018-01-28T08:38:54.535979Z",
     "start_time": "2018-01-28T08:38:54.421703Z"
    }
   },
   "outputs": [],
   "source": [
    "gene_x_cell_line = pd.read_table('gene_x_cell_line.tsv', index_col=0)\n",
    "\n",
    "gene_x_cell_line = pd.DataFrame(\n",
    "    normalize_2d_array(gene_x_cell_line.values, '-0-'),\n",
    "    index=gene_x_cell_line.index,\n",
    "    columns=gene_x_cell_line.columns)\n",
    "\n",
    "gene_x_cell_line"
   ]
  },
  {
   "cell_type": "code",
   "execution_count": null,
   "metadata": {
    "ExecuteTime": {
     "end_time": "2018-01-28T08:38:54.583273Z",
     "start_time": "2018-01-28T08:38:54.539822Z"
    }
   },
   "outputs": [],
   "source": [
    "array_1d = gene_x_cell_line.loc['KRAS']"
   ]
  },
  {
   "cell_type": "code",
   "execution_count": null,
   "metadata": {
    "ExecuteTime": {
     "end_time": "2018-01-28T08:38:56.161799Z",
     "start_time": "2018-01-28T08:38:54.587993Z"
    }
   },
   "outputs": [],
   "source": [
    "n, location, scale, df, shape = fit_skew_t_pdf(array_1d)\n",
    "print('N={}\\tLocation={:.3f}\\tScale={:.3f}\\tDF={:.3f}\\tShape={:.3f}'.format(\n",
    "    n, location, scale, df, shape))\n",
    "\n",
    "n, location, scale, df, shape = fit_skew_t_pdf(\n",
    "    array_1d, fit_fixed_location=10, fit_fixed_scale=10)\n",
    "print('N={}\\tLocation={:.3f}\\tScale={:.3f}\\tDF={:.3f}\\tShape={:.3f}'.format(\n",
    "    n, location, scale, df, shape))"
   ]
  },
  {
   "cell_type": "code",
   "execution_count": null,
   "metadata": {
    "ExecuteTime": {
     "end_time": "2018-01-28T08:38:57.105679Z",
     "start_time": "2018-01-28T08:38:56.166439Z"
    },
    "scrolled": false
   },
   "outputs": [],
   "source": [
    "context_dict = compute_context(array_1d)\n",
    "\n",
    "for key, value in context_dict.items():\n",
    "    print(key)\n",
    "    print(value)\n",
    "    print(value.shape)\n",
    "    print()"
   ]
  },
  {
   "cell_type": "code",
   "execution_count": null,
   "metadata": {
    "ExecuteTime": {
     "end_time": "2018-01-28T08:39:04.165293Z",
     "start_time": "2018-01-28T08:38:57.111562Z"
    }
   },
   "outputs": [],
   "source": [
    "feature_x_skew_t_pdf_fit_parameter = fit_skew_t_pdfs(gene_x_cell_line)\n",
    "\n",
    "feature_x_skew_t_pdf_fit_parameter"
   ]
  },
  {
   "cell_type": "code",
   "execution_count": null,
   "metadata": {
    "ExecuteTime": {
     "end_time": "2018-01-28T08:39:11.304317Z",
     "start_time": "2018-01-28T08:39:04.170456Z"
    },
    "scrolled": false
   },
   "outputs": [],
   "source": [
    "context__feature_x_sample, feature_context_summary = make_context_matrix_and_summarize_context(\n",
    "    gene_x_cell_line)"
   ]
  },
  {
   "cell_type": "code",
   "execution_count": null,
   "metadata": {
    "ExecuteTime": {
     "end_time": "2018-01-28T08:39:11.397550Z",
     "start_time": "2018-01-28T08:39:11.310007Z"
    }
   },
   "outputs": [],
   "source": [
    "context__feature_x_sample"
   ]
  },
  {
   "cell_type": "code",
   "execution_count": null,
   "metadata": {
    "ExecuteTime": {
     "end_time": "2018-01-28T08:39:11.447677Z",
     "start_time": "2018-01-28T08:39:11.401443Z"
    }
   },
   "outputs": [],
   "source": [
    "feature_context_summary"
   ]
  },
  {
   "cell_type": "code",
   "execution_count": null,
   "metadata": {
    "ExecuteTime": {
     "end_time": "2018-01-28T08:39:31.285000Z",
     "start_time": "2018-01-28T08:39:11.452919Z"
    },
    "scrolled": false
   },
   "outputs": [],
   "source": [
    "for feature, feature_vector in gene_x_cell_line.iterrows():\n",
    "    plot_context(feature_vector, feature, add_context_summary_to_title=True)\n",
    "\n",
    "    mpl.pyplot.show()"
   ]
  },
  {
   "cell_type": "code",
   "execution_count": null,
   "metadata": {
    "ExecuteTime": {
     "end_time": "2018-01-28T08:39:31.552934Z",
     "start_time": "2018-01-28T08:39:31.291810Z"
    }
   },
   "outputs": [],
   "source": [
    "compound_x_cell_line = pd.read_table('compound_x_cell_line.tsv', index_col=0)\n",
    "\n",
    "compound_x_cell_line = pd.DataFrame(\n",
    "    normalize_2d_array(compound_x_cell_line.values, '-0-'),\n",
    "    index=compound_x_cell_line.index,\n",
    "    columns=compound_x_cell_line.columns)"
   ]
  },
  {
   "cell_type": "code",
   "execution_count": null,
   "metadata": {
    "ExecuteTime": {
     "end_time": "2018-01-28T08:49:35.805408Z",
     "start_time": "2018-01-28T08:49:10.031774Z"
    },
    "scrolled": false
   },
   "outputs": [],
   "source": [
    "for feature, feature_vector in compound_x_cell_line.iterrows():\n",
    "\n",
    "    if feature not in (\n",
    "            '1S,3R-RSL-3',\n",
    "            'ML162',\n",
    "            'ML210',\n",
    "            'erastin',\n",
    "            'leptomycin B',\n",
    "            'SB-743921',\n",
    "            'ouabain', ):\n",
    "        continue\n",
    "\n",
    "    plot_context(\n",
    "        feature_vector.dropna(), feature, add_context_summary_to_title=True)\n",
    "\n",
    "    plot_context(\n",
    "        feature_vector.dropna(),\n",
    "        feature,\n",
    "        true_mean=0,\n",
    "        add_context_summary_to_title=True)\n",
    "\n",
    "    mpl.pyplot.show()"
   ]
  }
 ],
 "metadata": {
  "kernelspec": {
   "display_name": "Python [conda root]",
   "language": "python",
   "name": "conda-root-py"
  },
  "language_info": {
   "codemirror_mode": {
    "name": "ipython",
    "version": 3
   },
   "file_extension": ".py",
   "mimetype": "text/x-python",
   "name": "python",
   "nbconvert_exporter": "python",
   "pygments_lexer": "ipython3",
   "version": "3.6.3"
  }
 },
 "nbformat": 4,
 "nbformat_minor": 2
}
